{
 "cells": [
  {
   "cell_type": "code",
   "execution_count": 2,
   "metadata": {},
   "outputs": [],
   "source": [
    "import pandas as pd\n",
    "import numpy as np\n",
    "import matplotlib.pyplot as plt\n",
    "import seaborn as sns"
   ]
  },
  {
   "cell_type": "code",
   "execution_count": 3,
   "metadata": {},
   "outputs": [
    {
     "data": {
      "text/html": [
       "<div>\n",
       "<style scoped>\n",
       "    .dataframe tbody tr th:only-of-type {\n",
       "        vertical-align: middle;\n",
       "    }\n",
       "\n",
       "    .dataframe tbody tr th {\n",
       "        vertical-align: top;\n",
       "    }\n",
       "\n",
       "    .dataframe thead th {\n",
       "        text-align: right;\n",
       "    }\n",
       "</style>\n",
       "<table border=\"1\" class=\"dataframe\">\n",
       "  <thead>\n",
       "    <tr style=\"text-align: right;\">\n",
       "      <th></th>\n",
       "      <th>full_scorecard</th>\n",
       "      <th>team1</th>\n",
       "      <th>team2</th>\n",
       "      <th>team1_score</th>\n",
       "      <th>team2_score</th>\n",
       "      <th>toss_winner</th>\n",
       "      <th>toss_choice</th>\n",
       "      <th>winner</th>\n",
       "      <th>margin</th>\n",
       "      <th>man_of_the_match</th>\n",
       "      <th>stadium</th>\n",
       "      <th>place</th>\n",
       "    </tr>\n",
       "  </thead>\n",
       "  <tbody>\n",
       "    <tr>\n",
       "      <th>0</th>\n",
       "      <td>https://stats.espncricinfo.com/ci/engine/match...</td>\n",
       "      <td>Chennai Super Kings</td>\n",
       "      <td>Kolkata Knight Riders</td>\n",
       "      <td>131.0</td>\n",
       "      <td>133.0</td>\n",
       "      <td>Kolkata Knight Riders</td>\n",
       "      <td>Field</td>\n",
       "      <td>KKR</td>\n",
       "      <td>6 wickets</td>\n",
       "      <td>Umesh Yadav</td>\n",
       "      <td>Wankhede Stadium</td>\n",
       "      <td>Mumbai</td>\n",
       "    </tr>\n",
       "    <tr>\n",
       "      <th>1</th>\n",
       "      <td>https://stats.espncricinfo.com/ci/engine/match...</td>\n",
       "      <td>Mumbai Indians</td>\n",
       "      <td>Delhi Capitals</td>\n",
       "      <td>177.0</td>\n",
       "      <td>179.0</td>\n",
       "      <td>Delhi Capitals</td>\n",
       "      <td>Field</td>\n",
       "      <td>Capitals</td>\n",
       "      <td>4 wickets</td>\n",
       "      <td>Kuldeep Yadav</td>\n",
       "      <td>Brabourne Stadium</td>\n",
       "      <td>Mumbai</td>\n",
       "    </tr>\n",
       "    <tr>\n",
       "      <th>2</th>\n",
       "      <td>https://stats.espncricinfo.com/ci/engine/match...</td>\n",
       "      <td>Royal Challengers Bangalore</td>\n",
       "      <td>Punjab Kings</td>\n",
       "      <td>205.0</td>\n",
       "      <td>208.0</td>\n",
       "      <td>Punjab Kings</td>\n",
       "      <td>Field</td>\n",
       "      <td>Punjab</td>\n",
       "      <td>5 wickets</td>\n",
       "      <td>Odean Smith</td>\n",
       "      <td>Dr DY Patil Sports Academy</td>\n",
       "      <td>Mumbai</td>\n",
       "    </tr>\n",
       "    <tr>\n",
       "      <th>3</th>\n",
       "      <td>https://stats.espncricinfo.com/ci/engine/match...</td>\n",
       "      <td>Lucknow Super Giants</td>\n",
       "      <td>Gujarat Titans</td>\n",
       "      <td>158.0</td>\n",
       "      <td>161.0</td>\n",
       "      <td>Gujarat Titans</td>\n",
       "      <td>Field</td>\n",
       "      <td>Titans</td>\n",
       "      <td>5 wickets</td>\n",
       "      <td>Mohammed Shami</td>\n",
       "      <td>Wankhede Stadium</td>\n",
       "      <td>Mumbai</td>\n",
       "    </tr>\n",
       "    <tr>\n",
       "      <th>4</th>\n",
       "      <td>https://stats.espncricinfo.com/ci/engine/match...</td>\n",
       "      <td>Rajasthan Royals</td>\n",
       "      <td>Sunrisers Hyderabad</td>\n",
       "      <td>210.0</td>\n",
       "      <td>149.0</td>\n",
       "      <td>Sunrisers Hyderabad</td>\n",
       "      <td>Field</td>\n",
       "      <td>Royals</td>\n",
       "      <td>61 runs</td>\n",
       "      <td>Sanju Samson</td>\n",
       "      <td>Maharashtra Cricket Association Stadium</td>\n",
       "      <td>Pune</td>\n",
       "    </tr>\n",
       "    <tr>\n",
       "      <th>...</th>\n",
       "      <td>...</td>\n",
       "      <td>...</td>\n",
       "      <td>...</td>\n",
       "      <td>...</td>\n",
       "      <td>...</td>\n",
       "      <td>...</td>\n",
       "      <td>...</td>\n",
       "      <td>...</td>\n",
       "      <td>...</td>\n",
       "      <td>...</td>\n",
       "      <td>...</td>\n",
       "      <td>...</td>\n",
       "    </tr>\n",
       "    <tr>\n",
       "      <th>953</th>\n",
       "      <td>https://stats.espncricinfo.com/ci/engine/match...</td>\n",
       "      <td>Royal Challengers Bangalore</td>\n",
       "      <td>Mumbai Indians</td>\n",
       "      <td>NaN</td>\n",
       "      <td>126.0</td>\n",
       "      <td>Mumbai Indians</td>\n",
       "      <td>Field</td>\n",
       "      <td>Mumbai</td>\n",
       "      <td>9 wickets</td>\n",
       "      <td>Dilhara Fernando</td>\n",
       "      <td>M Chinnaswamy Stadium</td>\n",
       "      <td>Bangalore</td>\n",
       "    </tr>\n",
       "    <tr>\n",
       "      <th>954</th>\n",
       "      <td>https://stats.espncricinfo.com/ci/engine/match...</td>\n",
       "      <td>Kings XI Punjab</td>\n",
       "      <td>Rajasthan Royals</td>\n",
       "      <td>221.0</td>\n",
       "      <td>180.0</td>\n",
       "      <td>Rajasthan Royals</td>\n",
       "      <td>Field</td>\n",
       "      <td>Kings</td>\n",
       "      <td>41 runs</td>\n",
       "      <td>Shaun Marsh</td>\n",
       "      <td>Punjab Cricket Association Stadium</td>\n",
       "      <td>Mohali</td>\n",
       "    </tr>\n",
       "    <tr>\n",
       "      <th>955</th>\n",
       "      <td>https://stats.espncricinfo.com/ci/engine/match...</td>\n",
       "      <td>Rajasthan Royals</td>\n",
       "      <td>Delhi Daredevils</td>\n",
       "      <td>192.0</td>\n",
       "      <td>87.0</td>\n",
       "      <td>Delhi Daredevils</td>\n",
       "      <td>Field</td>\n",
       "      <td>Royals</td>\n",
       "      <td>105 runs</td>\n",
       "      <td>Shane Watson</td>\n",
       "      <td>Wankhede Stadium</td>\n",
       "      <td>Mumbai</td>\n",
       "    </tr>\n",
       "    <tr>\n",
       "      <th>956</th>\n",
       "      <td>https://stats.espncricinfo.com/ci/engine/match...</td>\n",
       "      <td>Kings XI Punjab</td>\n",
       "      <td>Chennai Super Kings</td>\n",
       "      <td>112.0</td>\n",
       "      <td>116.0</td>\n",
       "      <td>Kings XI Punjab</td>\n",
       "      <td>Bat</td>\n",
       "      <td>Super</td>\n",
       "      <td>9 wickets</td>\n",
       "      <td>Makhaya Ntini</td>\n",
       "      <td>Wankhede Stadium</td>\n",
       "      <td>Mumbai</td>\n",
       "    </tr>\n",
       "    <tr>\n",
       "      <th>957</th>\n",
       "      <td>https://stats.espncricinfo.com/ci/engine/match...</td>\n",
       "      <td>Chennai Super Kings</td>\n",
       "      <td>Rajasthan Royals</td>\n",
       "      <td>163.0</td>\n",
       "      <td>164.0</td>\n",
       "      <td>Rajasthan Royals</td>\n",
       "      <td>Field</td>\n",
       "      <td>Royals</td>\n",
       "      <td>3 wickets</td>\n",
       "      <td>Yusuf Pathan</td>\n",
       "      <td>Dr DY Patil Sports Academy</td>\n",
       "      <td>Mumbai</td>\n",
       "    </tr>\n",
       "  </tbody>\n",
       "</table>\n",
       "<p>958 rows × 12 columns</p>\n",
       "</div>"
      ],
      "text/plain": [
       "                                        full_scorecard  \\\n",
       "0    https://stats.espncricinfo.com/ci/engine/match...   \n",
       "1    https://stats.espncricinfo.com/ci/engine/match...   \n",
       "2    https://stats.espncricinfo.com/ci/engine/match...   \n",
       "3    https://stats.espncricinfo.com/ci/engine/match...   \n",
       "4    https://stats.espncricinfo.com/ci/engine/match...   \n",
       "..                                                 ...   \n",
       "953  https://stats.espncricinfo.com/ci/engine/match...   \n",
       "954  https://stats.espncricinfo.com/ci/engine/match...   \n",
       "955  https://stats.espncricinfo.com/ci/engine/match...   \n",
       "956  https://stats.espncricinfo.com/ci/engine/match...   \n",
       "957  https://stats.espncricinfo.com/ci/engine/match...   \n",
       "\n",
       "                           team1                  team2  team1_score  \\\n",
       "0            Chennai Super Kings  Kolkata Knight Riders        131.0   \n",
       "1                 Mumbai Indians         Delhi Capitals        177.0   \n",
       "2    Royal Challengers Bangalore           Punjab Kings        205.0   \n",
       "3           Lucknow Super Giants         Gujarat Titans        158.0   \n",
       "4               Rajasthan Royals    Sunrisers Hyderabad        210.0   \n",
       "..                           ...                    ...          ...   \n",
       "953  Royal Challengers Bangalore         Mumbai Indians          NaN   \n",
       "954              Kings XI Punjab       Rajasthan Royals        221.0   \n",
       "955             Rajasthan Royals       Delhi Daredevils        192.0   \n",
       "956              Kings XI Punjab    Chennai Super Kings        112.0   \n",
       "957          Chennai Super Kings       Rajasthan Royals        163.0   \n",
       "\n",
       "     team2_score            toss_winner toss_choice    winner     margin  \\\n",
       "0          133.0  Kolkata Knight Riders       Field       KKR  6 wickets   \n",
       "1          179.0         Delhi Capitals       Field  Capitals  4 wickets   \n",
       "2          208.0           Punjab Kings       Field    Punjab  5 wickets   \n",
       "3          161.0         Gujarat Titans       Field    Titans  5 wickets   \n",
       "4          149.0    Sunrisers Hyderabad       Field    Royals    61 runs   \n",
       "..           ...                    ...         ...       ...        ...   \n",
       "953        126.0         Mumbai Indians       Field    Mumbai  9 wickets   \n",
       "954        180.0       Rajasthan Royals       Field     Kings    41 runs   \n",
       "955         87.0       Delhi Daredevils       Field    Royals   105 runs   \n",
       "956        116.0        Kings XI Punjab         Bat     Super  9 wickets   \n",
       "957        164.0       Rajasthan Royals       Field    Royals  3 wickets   \n",
       "\n",
       "     man_of_the_match                                  stadium      place  \n",
       "0         Umesh Yadav                         Wankhede Stadium     Mumbai  \n",
       "1       Kuldeep Yadav                        Brabourne Stadium     Mumbai  \n",
       "2         Odean Smith               Dr DY Patil Sports Academy     Mumbai  \n",
       "3      Mohammed Shami                         Wankhede Stadium     Mumbai  \n",
       "4        Sanju Samson  Maharashtra Cricket Association Stadium       Pune  \n",
       "..                ...                                      ...        ...  \n",
       "953  Dilhara Fernando                    M Chinnaswamy Stadium  Bangalore  \n",
       "954       Shaun Marsh       Punjab Cricket Association Stadium     Mohali  \n",
       "955      Shane Watson                         Wankhede Stadium     Mumbai  \n",
       "956     Makhaya Ntini                         Wankhede Stadium     Mumbai  \n",
       "957      Yusuf Pathan               Dr DY Patil Sports Academy     Mumbai  \n",
       "\n",
       "[958 rows x 12 columns]"
      ]
     },
     "execution_count": 3,
     "metadata": {},
     "output_type": "execute_result"
    }
   ],
   "source": [
    "df = pd.read_csv(\"ipl_dataset.csv\")\n",
    "df"
   ]
  },
  {
   "cell_type": "code",
   "execution_count": 4,
   "metadata": {},
   "outputs": [
    {
     "data": {
      "text/html": [
       "<div>\n",
       "<style scoped>\n",
       "    .dataframe tbody tr th:only-of-type {\n",
       "        vertical-align: middle;\n",
       "    }\n",
       "\n",
       "    .dataframe tbody tr th {\n",
       "        vertical-align: top;\n",
       "    }\n",
       "\n",
       "    .dataframe thead th {\n",
       "        text-align: right;\n",
       "    }\n",
       "</style>\n",
       "<table border=\"1\" class=\"dataframe\">\n",
       "  <thead>\n",
       "    <tr style=\"text-align: right;\">\n",
       "      <th></th>\n",
       "      <th>team1_score</th>\n",
       "      <th>team2_score</th>\n",
       "    </tr>\n",
       "  </thead>\n",
       "  <tbody>\n",
       "    <tr>\n",
       "      <th>count</th>\n",
       "      <td>930.000000</td>\n",
       "      <td>948.000000</td>\n",
       "    </tr>\n",
       "    <tr>\n",
       "      <th>mean</th>\n",
       "      <td>163.149462</td>\n",
       "      <td>149.282700</td>\n",
       "    </tr>\n",
       "    <tr>\n",
       "      <th>std</th>\n",
       "      <td>29.695734</td>\n",
       "      <td>30.606165</td>\n",
       "    </tr>\n",
       "    <tr>\n",
       "      <th>min</th>\n",
       "      <td>67.000000</td>\n",
       "      <td>2.000000</td>\n",
       "    </tr>\n",
       "    <tr>\n",
       "      <th>25%</th>\n",
       "      <td>145.000000</td>\n",
       "      <td>132.000000</td>\n",
       "    </tr>\n",
       "    <tr>\n",
       "      <th>50%</th>\n",
       "      <td>164.000000</td>\n",
       "      <td>151.000000</td>\n",
       "    </tr>\n",
       "    <tr>\n",
       "      <th>75%</th>\n",
       "      <td>183.000000</td>\n",
       "      <td>170.000000</td>\n",
       "    </tr>\n",
       "    <tr>\n",
       "      <th>max</th>\n",
       "      <td>263.000000</td>\n",
       "      <td>226.000000</td>\n",
       "    </tr>\n",
       "  </tbody>\n",
       "</table>\n",
       "</div>"
      ],
      "text/plain": [
       "       team1_score  team2_score\n",
       "count   930.000000   948.000000\n",
       "mean    163.149462   149.282700\n",
       "std      29.695734    30.606165\n",
       "min      67.000000     2.000000\n",
       "25%     145.000000   132.000000\n",
       "50%     164.000000   151.000000\n",
       "75%     183.000000   170.000000\n",
       "max     263.000000   226.000000"
      ]
     },
     "execution_count": 4,
     "metadata": {},
     "output_type": "execute_result"
    }
   ],
   "source": [
    "df.describe()"
   ]
  },
  {
   "cell_type": "code",
   "execution_count": 5,
   "metadata": {},
   "outputs": [
    {
     "name": "stdout",
     "output_type": "stream",
     "text": [
      "<class 'pandas.core.frame.DataFrame'>\n",
      "RangeIndex: 958 entries, 0 to 957\n",
      "Data columns (total 12 columns):\n",
      " #   Column            Non-Null Count  Dtype  \n",
      "---  ------            --------------  -----  \n",
      " 0   full_scorecard    958 non-null    object \n",
      " 1   team1             958 non-null    object \n",
      " 2   team2             950 non-null    object \n",
      " 3   team1_score       930 non-null    float64\n",
      " 4   team2_score       948 non-null    float64\n",
      " 5   toss_winner       950 non-null    object \n",
      " 6   toss_choice       958 non-null    object \n",
      " 7   winner            958 non-null    object \n",
      " 8   margin            958 non-null    object \n",
      " 9   man_of_the_match  950 non-null    object \n",
      " 10  stadium           950 non-null    object \n",
      " 11  place             874 non-null    object \n",
      "dtypes: float64(2), object(10)\n",
      "memory usage: 89.9+ KB\n"
     ]
    }
   ],
   "source": [
    "df.info()"
   ]
  },
  {
   "cell_type": "code",
   "execution_count": 6,
   "metadata": {},
   "outputs": [
    {
     "data": {
      "text/plain": [
       "full_scorecard       0\n",
       "team1                0\n",
       "team2                8\n",
       "team1_score         28\n",
       "team2_score         10\n",
       "toss_winner          8\n",
       "toss_choice          0\n",
       "winner               0\n",
       "margin               0\n",
       "man_of_the_match     8\n",
       "stadium              8\n",
       "place               84\n",
       "dtype: int64"
      ]
     },
     "execution_count": 6,
     "metadata": {},
     "output_type": "execute_result"
    }
   ],
   "source": [
    "df.isna().sum()"
   ]
  },
  {
   "cell_type": "code",
   "execution_count": 7,
   "metadata": {},
   "outputs": [],
   "source": [
    "mean1 = df[\"team1_score\"].mean()\n",
    "df[\"team1_score\"].fillna(value = mean1, axis=0, inplace = True)\n",
    "\n",
    "mean2 = df[\"team2_score\"].mean()\n",
    "df[\"team2_score\"].fillna(value = mean2, axis=0, inplace = True)"
   ]
  },
  {
   "cell_type": "code",
   "execution_count": 8,
   "metadata": {},
   "outputs": [],
   "source": [
    "df.dropna(axis = 0, how = \"any\", inplace=True)"
   ]
  },
  {
   "cell_type": "code",
   "execution_count": 9,
   "metadata": {},
   "outputs": [
    {
     "data": {
      "text/plain": [
       "full_scorecard      0\n",
       "team1               0\n",
       "team2               0\n",
       "team1_score         0\n",
       "team2_score         0\n",
       "toss_winner         0\n",
       "toss_choice         0\n",
       "winner              0\n",
       "margin              0\n",
       "man_of_the_match    0\n",
       "stadium             0\n",
       "place               0\n",
       "dtype: int64"
      ]
     },
     "execution_count": 9,
     "metadata": {},
     "output_type": "execute_result"
    }
   ],
   "source": [
    "df.isna().sum()"
   ]
  },
  {
   "cell_type": "code",
   "execution_count": 10,
   "metadata": {
    "scrolled": true
   },
   "outputs": [
    {
     "data": {
      "text/html": [
       "<div>\n",
       "<style scoped>\n",
       "    .dataframe tbody tr th:only-of-type {\n",
       "        vertical-align: middle;\n",
       "    }\n",
       "\n",
       "    .dataframe tbody tr th {\n",
       "        vertical-align: top;\n",
       "    }\n",
       "\n",
       "    .dataframe thead th {\n",
       "        text-align: right;\n",
       "    }\n",
       "</style>\n",
       "<table border=\"1\" class=\"dataframe\">\n",
       "  <thead>\n",
       "    <tr style=\"text-align: right;\">\n",
       "      <th></th>\n",
       "      <th>full_scorecard</th>\n",
       "      <th>team1</th>\n",
       "      <th>team2</th>\n",
       "      <th>team1_score</th>\n",
       "      <th>team2_score</th>\n",
       "      <th>toss_winner</th>\n",
       "      <th>toss_choice</th>\n",
       "      <th>winner</th>\n",
       "      <th>margin</th>\n",
       "      <th>man_of_the_match</th>\n",
       "      <th>stadium</th>\n",
       "      <th>place</th>\n",
       "    </tr>\n",
       "  </thead>\n",
       "  <tbody>\n",
       "    <tr>\n",
       "      <th>0</th>\n",
       "      <td>https://stats.espncricinfo.com/ci/engine/match...</td>\n",
       "      <td>Chennai Super Kings</td>\n",
       "      <td>Kolkata Knight Riders</td>\n",
       "      <td>131.0</td>\n",
       "      <td>133.0</td>\n",
       "      <td>Kolkata Knight Riders</td>\n",
       "      <td>Field</td>\n",
       "      <td>KKR</td>\n",
       "      <td>6 wickets</td>\n",
       "      <td>Umesh Yadav</td>\n",
       "      <td>Wankhede Stadium</td>\n",
       "      <td>Mumbai</td>\n",
       "    </tr>\n",
       "    <tr>\n",
       "      <th>1</th>\n",
       "      <td>https://stats.espncricinfo.com/ci/engine/match...</td>\n",
       "      <td>Mumbai Indians</td>\n",
       "      <td>Delhi Capitals</td>\n",
       "      <td>177.0</td>\n",
       "      <td>179.0</td>\n",
       "      <td>Delhi Capitals</td>\n",
       "      <td>Field</td>\n",
       "      <td>Capitals</td>\n",
       "      <td>4 wickets</td>\n",
       "      <td>Kuldeep Yadav</td>\n",
       "      <td>Brabourne Stadium</td>\n",
       "      <td>Mumbai</td>\n",
       "    </tr>\n",
       "    <tr>\n",
       "      <th>2</th>\n",
       "      <td>https://stats.espncricinfo.com/ci/engine/match...</td>\n",
       "      <td>Royal Challengers Bangalore</td>\n",
       "      <td>Punjab Kings</td>\n",
       "      <td>205.0</td>\n",
       "      <td>208.0</td>\n",
       "      <td>Punjab Kings</td>\n",
       "      <td>Field</td>\n",
       "      <td>Punjab</td>\n",
       "      <td>5 wickets</td>\n",
       "      <td>Odean Smith</td>\n",
       "      <td>Dr DY Patil Sports Academy</td>\n",
       "      <td>Mumbai</td>\n",
       "    </tr>\n",
       "    <tr>\n",
       "      <th>3</th>\n",
       "      <td>https://stats.espncricinfo.com/ci/engine/match...</td>\n",
       "      <td>Lucknow Super Giants</td>\n",
       "      <td>Gujarat Titans</td>\n",
       "      <td>158.0</td>\n",
       "      <td>161.0</td>\n",
       "      <td>Gujarat Titans</td>\n",
       "      <td>Field</td>\n",
       "      <td>Titans</td>\n",
       "      <td>5 wickets</td>\n",
       "      <td>Mohammed Shami</td>\n",
       "      <td>Wankhede Stadium</td>\n",
       "      <td>Mumbai</td>\n",
       "    </tr>\n",
       "    <tr>\n",
       "      <th>4</th>\n",
       "      <td>https://stats.espncricinfo.com/ci/engine/match...</td>\n",
       "      <td>Rajasthan Royals</td>\n",
       "      <td>Sunrisers Hyderabad</td>\n",
       "      <td>210.0</td>\n",
       "      <td>149.0</td>\n",
       "      <td>Sunrisers Hyderabad</td>\n",
       "      <td>Field</td>\n",
       "      <td>Royals</td>\n",
       "      <td>61 runs</td>\n",
       "      <td>Sanju Samson</td>\n",
       "      <td>Maharashtra Cricket Association Stadium</td>\n",
       "      <td>Pune</td>\n",
       "    </tr>\n",
       "  </tbody>\n",
       "</table>\n",
       "</div>"
      ],
      "text/plain": [
       "                                      full_scorecard  \\\n",
       "0  https://stats.espncricinfo.com/ci/engine/match...   \n",
       "1  https://stats.espncricinfo.com/ci/engine/match...   \n",
       "2  https://stats.espncricinfo.com/ci/engine/match...   \n",
       "3  https://stats.espncricinfo.com/ci/engine/match...   \n",
       "4  https://stats.espncricinfo.com/ci/engine/match...   \n",
       "\n",
       "                         team1                  team2  team1_score  \\\n",
       "0          Chennai Super Kings  Kolkata Knight Riders        131.0   \n",
       "1               Mumbai Indians         Delhi Capitals        177.0   \n",
       "2  Royal Challengers Bangalore           Punjab Kings        205.0   \n",
       "3         Lucknow Super Giants         Gujarat Titans        158.0   \n",
       "4             Rajasthan Royals    Sunrisers Hyderabad        210.0   \n",
       "\n",
       "   team2_score            toss_winner toss_choice    winner     margin  \\\n",
       "0        133.0  Kolkata Knight Riders       Field       KKR  6 wickets   \n",
       "1        179.0         Delhi Capitals       Field  Capitals  4 wickets   \n",
       "2        208.0           Punjab Kings       Field    Punjab  5 wickets   \n",
       "3        161.0         Gujarat Titans       Field    Titans  5 wickets   \n",
       "4        149.0    Sunrisers Hyderabad       Field    Royals    61 runs   \n",
       "\n",
       "  man_of_the_match                                  stadium   place  \n",
       "0      Umesh Yadav                         Wankhede Stadium  Mumbai  \n",
       "1    Kuldeep Yadav                        Brabourne Stadium  Mumbai  \n",
       "2      Odean Smith               Dr DY Patil Sports Academy  Mumbai  \n",
       "3   Mohammed Shami                         Wankhede Stadium  Mumbai  \n",
       "4     Sanju Samson  Maharashtra Cricket Association Stadium    Pune  "
      ]
     },
     "execution_count": 10,
     "metadata": {},
     "output_type": "execute_result"
    }
   ],
   "source": [
    "df.head()"
   ]
  },
  {
   "cell_type": "code",
   "execution_count": 11,
   "metadata": {},
   "outputs": [
    {
     "data": {
      "text/plain": [
       "{'whiskers': [<matplotlib.lines.Line2D at 0x298e7614c70>,\n",
       "  <matplotlib.lines.Line2D at 0x298e7614f40>],\n",
       " 'caps': [<matplotlib.lines.Line2D at 0x298e7630250>,\n",
       "  <matplotlib.lines.Line2D at 0x298e7630520>],\n",
       " 'boxes': [<matplotlib.lines.Line2D at 0x298e7195820>],\n",
       " 'medians': [<matplotlib.lines.Line2D at 0x298e76307f0>],\n",
       " 'fliers': [<matplotlib.lines.Line2D at 0x298e7630ac0>],\n",
       " 'means': []}"
      ]
     },
     "execution_count": 11,
     "metadata": {},
     "output_type": "execute_result"
    },
    {
     "data": {
      "image/png": "[encoded data removed]",
      "text/plain": [
       "<Figure size 432x288 with 1 Axes>"
      ]
     },
     "metadata": {
      "needs_background": "light"
     },
     "output_type": "display_data"
    }
   ],
   "source": [
    "plt.boxplot(df[\"team1_score\"])"
   ]
  },
  {
   "cell_type": "code",
   "execution_count": 12,
   "metadata": {},
   "outputs": [
    {
     "name": "stderr",
     "output_type": "stream",
     "text": [
      "C:\\Users\\Prajwal Bhamere\\AppData\\Local\\Temp\\ipykernel_8824\\3517674506.py:1: FutureWarning: Dropping of nuisance columns in DataFrame reductions (with 'numeric_only=None') is deprecated; in a future version this will raise TypeError.  Select only valid columns before calling the reduction.\n",
      "  df.skew(axis = 0)\n"
     ]
    },
    {
     "data": {
      "text/plain": [
       "team1_score   -0.172499\n",
       "team2_score   -0.595740\n",
       "dtype: float64"
      ]
     },
     "execution_count": 12,
     "metadata": {},
     "output_type": "execute_result"
    }
   ],
   "source": [
    "df.skew(axis = 0)"
   ]
  },
  {
   "cell_type": "code",
   "execution_count": 13,
   "metadata": {},
   "outputs": [
    {
     "name": "stderr",
     "output_type": "stream",
     "text": [
      "C:\\Users\\Prajwal Bhamere\\AppData\\Local\\Temp\\ipykernel_8824\\3214175946.py:4: SettingWithCopyWarning: \n",
      "A value is trying to be set on a copy of a slice from a DataFrame\n",
      "\n",
      "See the caveats in the documentation: https://pandas.pydata.org/pandas-docs/stable/user_guide/indexing.html#returning-a-view-versus-a-copy\n",
      "  df[col][df[col] <= percentiles[0]] = percentiles[0]\n",
      "C:\\Users\\Prajwal Bhamere\\AppData\\Local\\Temp\\ipykernel_8824\\3214175946.py:5: SettingWithCopyWarning: \n",
      "A value is trying to be set on a copy of a slice from a DataFrame\n",
      "\n",
      "See the caveats in the documentation: https://pandas.pydata.org/pandas-docs/stable/user_guide/indexing.html#returning-a-view-versus-a-copy\n",
      "  df[col][df[col] >= percentiles[1]] = percentiles[1]\n",
      "C:\\Users\\Prajwal Bhamere\\AppData\\Local\\Temp\\ipykernel_8824\\3214175946.py:4: SettingWithCopyWarning: \n",
      "A value is trying to be set on a copy of a slice from a DataFrame\n",
      "\n",
      "See the caveats in the documentation: https://pandas.pydata.org/pandas-docs/stable/user_guide/indexing.html#returning-a-view-versus-a-copy\n",
      "  df[col][df[col] <= percentiles[0]] = percentiles[0]\n",
      "C:\\Users\\Prajwal Bhamere\\AppData\\Local\\Temp\\ipykernel_8824\\3214175946.py:5: SettingWithCopyWarning: \n",
      "A value is trying to be set on a copy of a slice from a DataFrame\n",
      "\n",
      "See the caveats in the documentation: https://pandas.pydata.org/pandas-docs/stable/user_guide/indexing.html#returning-a-view-versus-a-copy\n",
      "  df[col][df[col] >= percentiles[1]] = percentiles[1]\n"
     ]
    }
   ],
   "source": [
    "list = [\"team1_score\", \"team2_score\"]\n",
    "for col in list:\n",
    "    percentiles = df[col].quantile([0.05, 0.95]).values\n",
    "    df[col][df[col] <= percentiles[0]] = percentiles[0]\n",
    "    df[col][df[col] >= percentiles[1]] = percentiles[1]"
   ]
  },
  {
   "cell_type": "code",
   "execution_count": 14,
   "metadata": {},
   "outputs": [
    {
     "data": {
      "text/plain": [
       "{'whiskers': [<matplotlib.lines.Line2D at 0x298e7980bb0>,\n",
       "  <matplotlib.lines.Line2D at 0x298e7980e80>],\n",
       " 'caps': [<matplotlib.lines.Line2D at 0x298e7993190>,\n",
       "  <matplotlib.lines.Line2D at 0x298e7993460>],\n",
       " 'boxes': [<matplotlib.lines.Line2D at 0x298e79808e0>],\n",
       " 'medians': [<matplotlib.lines.Line2D at 0x298e7993730>],\n",
       " 'fliers': [<matplotlib.lines.Line2D at 0x298e7993a00>],\n",
       " 'means': []}"
      ]
     },
     "execution_count": 14,
     "metadata": {},
     "output_type": "execute_result"
    },
    {
     "data": {
      "image/png": "[encoded data removed]",
      "text/plain": [
       "<Figure size 432x288 with 1 Axes>"
      ]
     },
     "metadata": {
      "needs_background": "light"
     },
     "output_type": "display_data"
    }
   ],
   "source": [
    "plt.boxplot(df[\"team1_score\"])"
   ]
  },
  {
   "cell_type": "code",
   "execution_count": 15,
   "metadata": {},
   "outputs": [
    {
     "data": {
      "text/plain": [
       "{'whiskers': [<matplotlib.lines.Line2D at 0x298e79e7940>,\n",
       "  <matplotlib.lines.Line2D at 0x298e79e7c10>],\n",
       " 'caps': [<matplotlib.lines.Line2D at 0x298e79e7ee0>,\n",
       "  <matplotlib.lines.Line2D at 0x298e79f81f0>],\n",
       " 'boxes': [<matplotlib.lines.Line2D at 0x298e79e7670>],\n",
       " 'medians': [<matplotlib.lines.Line2D at 0x298e79f84c0>],\n",
       " 'fliers': [<matplotlib.lines.Line2D at 0x298e79f8790>],\n",
       " 'means': []}"
      ]
     },
     "execution_count": 15,
     "metadata": {},
     "output_type": "execute_result"
    },
    {
     "data": {
      "image/png": "[encoded data removed]",
      "text/plain": [
       "<Figure size 432x288 with 1 Axes>"
      ]
     },
     "metadata": {
      "needs_background": "light"
     },
     "output_type": "display_data"
    }
   ],
   "source": [
    "plt.boxplot(df[\"team2_score\"])"
   ]
  },
  {
   "cell_type": "code",
   "execution_count": 16,
   "metadata": {},
   "outputs": [
    {
     "name": "stderr",
     "output_type": "stream",
     "text": [
      "C:\\Users\\Prajwal Bhamere\\AppData\\Local\\Temp\\ipykernel_8824\\3517674506.py:1: FutureWarning: Dropping of nuisance columns in DataFrame reductions (with 'numeric_only=None') is deprecated; in a future version this will raise TypeError.  Select only valid columns before calling the reduction.\n",
      "  df.skew(axis = 0)\n"
     ]
    },
    {
     "data": {
      "text/plain": [
       "team1_score   -0.053767\n",
       "team2_score   -0.285915\n",
       "dtype: float64"
      ]
     },
     "execution_count": 16,
     "metadata": {},
     "output_type": "execute_result"
    }
   ],
   "source": [
    "df.skew(axis = 0)"
   ]
  },
  {
   "cell_type": "code",
   "execution_count": 29,
   "metadata": {},
   "outputs": [
    {
     "data": {
      "text/plain": [
       "array([[0.16969382, 0.38692232],\n",
       "       [0.64711988, 0.83923304],\n",
       "       [0.93772704, 1.        ],\n",
       "       ...,\n",
       "       [0.80280228, 0.        ],\n",
       "       [0.        , 0.21976401],\n",
       "       [0.50181629, 0.69174041]])"
      ]
     },
     "execution_count": 29,
     "metadata": {},
     "output_type": "execute_result"
    }
   ],
   "source": [
    "from sklearn.preprocessing import MinMaxScaler\n",
    "scaler = MinMaxScaler()\n",
    "# scaled = df[[\"team1_score\", \"team2_score\"]]\n",
    "scaled = scaler.fit_transform(df[[\"team1_score\", \"team2_score\"]])\n",
    "scaled"
   ]
  },
  {
   "cell_type": "code",
   "execution_count": null,
   "metadata": {},
   "outputs": [],
   "source": []
  }
 ],
 "metadata": {
  "kernelspec": {
   "display_name": "Python 3 (ipykernel)",
   "language": "python",
   "name": "python3"
  },
  "language_info": {
   "codemirror_mode": {
    "name": "ipython",
    "version": 3
   },
   "file_extension": ".py",
   "mimetype": "text/x-python",
   "name": "python",
   "nbconvert_exporter": "python",
   "pygments_lexer": "ipython3",
   "version": "3.9.12"
  },
  "vscode": {
   "interpreter": {
    "hash": "71a31bfa8582485cfb2d3e7188836b486655ad427f614d7a6f98e594fd71a058"
   }
  }
 },
 "nbformat": 4,
 "nbformat_minor": 2
}
